{
 "cells": [
  {
   "cell_type": "markdown",
   "metadata": {},
   "source": [
    "# Discrete Cosine Transform\n",
    "A notebook on algorithms to compute the discrete cosine transform by Matt Beveridge.\n",
    "## Introduction\n",
    "The Discrete Cosine Transform is a variant of the Fourier Transform. For the one-dimensional case, the formal definition is the following where $x_k$ is the input and $y_k$ is the transformed version:\n",
    "\\begin{align}\n",
    "    y_n &= c_n \\sum_{k=0}^{N-1} x_k \\cos \\left(\\frac{n\\pi}{2N} (2k+1)\\right)\n",
    "\\end{align}\n",
    "Where $c_0 = 1/\\sqrt{N}$ and $c_n = \\sqrt{2/N}$ for $n=1,2,\\dots, N-1$. \n",
    "\n",
    "\n",
    "For the two-dimensional case it is:\n",
    "\\begin{align}\n",
    "    y_{n_1,n_2} &= c_{n_1} \\sum_{k_1=0}^{N_1-1} \\left[ c_{n_2} \\sum_{k_2=0}^{N_2-1} \\cos \\left(\\frac{n_2\\pi}{2N_2} (2k_2+1)\\right) \\right] \\cos \\left(\\frac{n_1\\pi}{2N_1} (2k_1+1)\\right) \\\\\n",
    "    &= c_{n_1} c_{n_2} \\sum_{k_1=0}^{N_1-1} \\sum_{k_2=0}^{N_2-1} \\cos \\left(\\frac{n_2\\pi}{2N_2} (2k_2+1)\\right) \\cos \\left(\\frac{n_1\\pi}{2N_1} (2k_1+1)\\right)\n",
    "\\end{align}\n",
    "\n",
    "Naively following these formulas, it takes $O(N^2)$ operations to compute this transform."
   ]
  },
  {
   "cell_type": "markdown",
   "metadata": {},
   "source": [
    "## Naive Approach\n",
    "In the naive approach, we simply follow the above equations.\n",
    "### One-Dimensional DCT\n",
    "The one-dimensional DCT transforms one-dimensional vectors into the frequency domain."
   ]
  },
  {
   "cell_type": "code",
   "execution_count": 144,
   "metadata": {},
   "outputs": [
    {
     "data": {
      "text/plain": [
       "naive_DCT_1D (generic function with 1 method)"
      ]
     },
     "execution_count": 144,
     "metadata": {},
     "output_type": "execute_result"
    }
   ],
   "source": [
    "function naive_DCT_1D(x)\n",
    "    dims = size(x)\n",
    "    @assert (ndims(x)==1 || dims[1]==1 || dims[2] == 1) \"vector must be one-dimensional\"\n",
    "    \n",
    "    N = length(x)\n",
    "    X = Array{Float64}(undef, N)\n",
    "    x = reshape(x, maximum(dims), 1)\n",
    "    \n",
    "    for k in 0:N-1\n",
    "        δ = if(k==0) sqrt(0.5) else 1. end \n",
    "        \n",
    "        sum = 0.0\n",
    "        for n in 0:N-1\n",
    "            sum += x[n+1] * cos((π/N)*(n+0.5)*k)\n",
    "        end\n",
    "        \n",
    "        X[k+1] = sqrt(2. / N) * δ * sum\n",
    "    end\n",
    "    X = reshape(X, dims)\n",
    "    return X\n",
    "end"
   ]
  },
  {
   "cell_type": "markdown",
   "metadata": {},
   "source": [
    "### Two-Dimensional DCT\n",
    "The two-dimensional DCT transforms two-dimensional vectors into the frequency domain."
   ]
  },
  {
   "cell_type": "code",
   "execution_count": 145,
   "metadata": {},
   "outputs": [
    {
     "data": {
      "text/plain": [
       "naive_DCT_2D (generic function with 1 method)"
      ]
     },
     "execution_count": 145,
     "metadata": {},
     "output_type": "execute_result"
    }
   ],
   "source": [
    "function naive_DCT_2D(x)\n",
    "    @assert (length(size(x))==2) \"vector must be two-dimensional\"\n",
    "    N1, N2 = size(x)\n",
    "    X = Array{Float64}(undef, N1, N2)\n",
    "    \n",
    "    # inner loop\n",
    "    function innerloop(k1, k2)    \n",
    "        sum = 0.0\n",
    "        for n1 in 0:N1-1\n",
    "            for n2 in 0:N2-1\n",
    "                sum += x[n1+1, n2+1] * cos(π/N1 * (n1+1/2) * k1) * cos(π/N2 * (n2+1/2) * k2)\n",
    "            end\n",
    "        end\n",
    "        \n",
    "        δ1 = if(k1==0) sqrt(0.5) else 1. end \n",
    "        δ2 = if(k2==0) sqrt(0.5) else 1. end\n",
    "        C1 = sqrt(2. / N1)\n",
    "        C2 = sqrt(2. / N2)\n",
    "        return C1*C2*δ1*δ2 *  sum\n",
    "    end\n",
    "    \n",
    "    # outer loop\n",
    "    for k1 in 0:N1-1\n",
    "        for k2 in 0:N2-1\n",
    "            X[k1+1, k2+1] = innerloop(k1, k2)\n",
    "        end\n",
    "    end\n",
    "                \n",
    "    return X    \n",
    "end"
   ]
  },
  {
   "cell_type": "markdown",
   "metadata": {},
   "source": [
    "### General DCT (1D or 2D)\n",
    "Of course, any one-dimensional vector can be rewritten as a two-dimensional vector. This means the two-dimensional DCT can be used for either, although this would be less efficient. For the general form, we decide $not$ to do this and instead adjust our course of action based on the number of dimensions. Either way, using the general form is slower than using the form specific to your input's dimensions."
   ]
  },
  {
   "cell_type": "code",
   "execution_count": 146,
   "metadata": {},
   "outputs": [
    {
     "data": {
      "text/plain": [
       "naive_DCT (generic function with 1 method)"
      ]
     },
     "execution_count": 146,
     "metadata": {},
     "output_type": "execute_result"
    }
   ],
   "source": [
    "function naive_DCT(x)\n",
    "    @assert (ndims(x)<=2) \"vector cannot have more than two dimensions\"\n",
    "    dims = size(x)    \n",
    "    if length(dims) == 1 || dims[1] == 1 || dims[2] == 1\n",
    "        return naive_DCT_1D(x)\n",
    "    else \n",
    "        return naive_DCT_2D(x)\n",
    "    end\n",
    "end"
   ]
  },
  {
   "cell_type": "markdown",
   "metadata": {},
   "source": [
    "## Smart Approach\n",
    "As previously noted, the naive algorithms run in $O(N^2)$. However, the state of the art run in $O(N\\log N)$. As you'll see below, the difference quickly becomes clear. "
   ]
  },
  {
   "cell_type": "code",
   "execution_count": 161,
   "metadata": {},
   "outputs": [
    {
     "name": "stdout",
     "output_type": "stream",
     "text": [
      "  0.000145 seconds (6 allocations: 480 bytes)\n",
      "  0.000520 seconds (105 allocations: 6.109 KiB)\n"
     ]
    },
    {
     "data": {
      "text/plain": [
       "5×5 Array{Float64,2}:\n",
       "  2.33017     0.123716  -0.269805    0.200765    0.255385 \n",
       " -0.250742   -0.164751  -0.481428    0.0740704   0.321384 \n",
       " -0.667611    0.182761   0.153201    0.256299    0.0444179\n",
       " -0.0432968  -0.211119  -0.0917634  -0.34907    -0.20388  \n",
       "  0.171248   -0.308896  -0.0633409  -0.43285     0.167039 "
      ]
     },
     "execution_count": 161,
     "metadata": {},
     "output_type": "execute_result"
    }
   ],
   "source": [
    "using FFTW\n",
    "\n",
    "A = rand(5,5)\n",
    "@time naive_DCT(A) #my naive algorithm\n",
    "@time dct(A) #the good stuff (leading algorithm)"
   ]
  },
  {
   "cell_type": "markdown",
   "metadata": {},
   "source": [
    "For small $N$, the naive algorithm is actually faster as there are less constant time operations. This advantage disappears for larger $N$."
   ]
  },
  {
   "cell_type": "code",
   "execution_count": 162,
   "metadata": {},
   "outputs": [
    {
     "name": "stdout",
     "output_type": "stream",
     "text": [
      "  5.183291 seconds (7 allocations: 78.391 KiB)\n",
      "  0.000868 seconds (107 allocations: 87.047 KiB)\n"
     ]
    },
    {
     "data": {
      "text/plain": [
       "100×100 Array{Float64,2}:\n",
       " 49.9091       0.344111    0.443109    …  -0.155577     0.258617   -0.309064 \n",
       " -0.593676     0.348605    0.599359        0.376356    -0.0648678  -0.365455 \n",
       "  0.438814    -0.0405729  -0.195075       -0.0105401    0.102823   -0.212902 \n",
       "  0.151063    -0.282751    0.297914        0.31494      0.342832   -0.308807 \n",
       "  0.0319965    0.421471    0.33088        -0.134173    -0.153701   -0.142023 \n",
       "  0.0330111   -0.129306   -0.299687    …  -0.0634229    0.220155    0.375877 \n",
       "  0.468238     0.0281991   0.170074       -0.00775143   0.368753   -0.173392 \n",
       "  0.288913     0.262707   -0.11687         0.155728    -0.173084   -0.0584141\n",
       "  0.0866491    0.310401   -0.0145558       0.387326     0.205745   -0.246147 \n",
       " -0.0804124    0.343005   -0.254185        0.145526     0.0459231   0.466345 \n",
       " -0.349644    -0.0413133  -0.12807     …   0.212368    -0.0208099   0.0351679\n",
       "  0.38139     -0.388958   -0.389312        0.172512    -0.396583    0.25687  \n",
       " -0.471605    -0.145443   -0.084665       -0.025371     0.0817757   0.208616 \n",
       "  ⋮                                    ⋱                                     \n",
       " -0.101293    -0.347775    0.123261       -0.217664     0.101179   -0.17174  \n",
       " -0.0328204   -0.189513    0.13157         0.0155778   -0.156891   -0.285475 \n",
       "  0.161819    -0.0874909  -0.312294    …   0.0344508   -0.0187642  -0.358567 \n",
       "  0.128086     0.17654    -0.00138382      0.434839     0.0788429  -0.0660575\n",
       "  0.04265     -0.579872   -0.193316        0.187336     0.115304   -0.310455 \n",
       " -0.0573283    0.301676    0.376448        0.614903     0.426298   -0.318805 \n",
       "  0.00415936   0.459752   -0.460082        0.419083    -0.0865279  -0.18365  \n",
       "  0.469518     0.355921    0.150391    …   0.178756     0.315441    0.249883 \n",
       " -0.183589    -0.0659726   0.169868       -0.27621      0.192254   -0.0855247\n",
       " -0.361286    -0.121456   -0.418367       -0.425616     0.150123    0.159918 \n",
       "  0.289596     0.344941   -0.257401       -0.0566832    0.378433   -0.187755 \n",
       " -0.285769    -0.182598    0.0834421      -0.235348     0.120065    0.207382 "
      ]
     },
     "execution_count": 162,
     "metadata": {},
     "output_type": "execute_result"
    }
   ],
   "source": [
    "A = rand(100,100)\n",
    "@time naive_DCT(A) #my naive algorithm\n",
    "@time dct(A) #the good stuff (leading algorithm)"
   ]
  },
  {
   "cell_type": "markdown",
   "metadata": {},
   "source": [
    "There are several approaches that are used to improve upon this. Here, we will look at the Fast Cosine Transform (FCT)."
   ]
  },
  {
   "cell_type": "markdown",
   "metadata": {},
   "source": [
    "### One-Dimensional Fast Cosine Transform \n",
    "\n",
    "The Fast Cosine Transform (FCT) recursively decomposes the DCT into its even and odd parts. Recall the equation for the one-dimensional DCT:\n",
    "\\begin{align}\n",
    "    y_n &= c_n \\sum_{k=0}^{N-1} x_k \\cos \\left(\\frac{n\\pi}{2N} (2k+1)\\right)\n",
    "\\end{align}\n",
    "We break this down into the following:\n",
    "\\begin{align}\n",
    "    g_k &= x_k + x_{(N-1-k)} \\\\\n",
    "    h_k &= \\frac{x_k-x_{(N-1-k)}}{2\\cos \\left(\\frac{n\\pi}{2N}(2k+1)\\right)} \\\\\n",
    "\\end{align}\n",
    "Further, we define:\n",
    "\\begin{align}\n",
    "    G_n &= \\sum_{k=0}^{\\frac{N}{2}-1} g_k \\cos \\left(\\frac{n\\pi}{2N}(2k+1)\\right) \\\\\n",
    "    H_n &= \\sum_{k=0}^{\\frac{N}{2}-1} h_k \\cos \\left(\\frac{n\\pi}{2N}(2k+1)\\right)\n",
    "\\end{align}\n",
    "For $n=0,1,\\dots,\\frac{N}{2}-1$. Thus,\n",
    "\\begin{align}\n",
    "    y_{2n} &= G_n \\\\\n",
    "    y_{(2n+1)} &= H_n + H_{(n+1)}\\\\\n",
    "    H_{\\frac{N}{2}} &= 0\n",
    "\\end{align}\n",
    "\n",
    "This set of equations forms a recursion known as Lee's fast DCT algorithm. Inspiration found at https://www.nayuki.io/res/fast-discrete-cosine-transform-algorithms."
   ]
  },
  {
   "cell_type": "code",
   "execution_count": 149,
   "metadata": {},
   "outputs": [
    {
     "data": {
      "text/plain": [
       "fast_DCT_1D (generic function with 1 method)"
      ]
     },
     "execution_count": 149,
     "metadata": {},
     "output_type": "execute_result"
    }
   ],
   "source": [
    "function unscaled_fast_DCT_1D(x)\n",
    "    n = length(x)\n",
    "\n",
    "    if n == 1\n",
    "        return copy(x)\n",
    "    elseif n==0 || n%2!=0\n",
    "        throw(ArgumentError(\"input must be size 2^m\"))\n",
    "    else \n",
    "        midpoint = n÷2\n",
    "        γ = x[1 : midpoint]\n",
    "        δ = x[n : -1 : midpoint+1]\n",
    "        α = unscaled_fast_DCT_1D(γ+δ)\n",
    "        β = unscaled_fast_DCT_1D((γ-δ) ./ (2* cos.((π/n)*collect(0.5:midpoint-0.5))))\n",
    "        \n",
    "        X = zero(x)        \n",
    "        X[1 : 2 : n] = α\n",
    "        X[2 : 2 : n] = β        \n",
    "        if length(β) > 1\n",
    "            X[2 : 2 : n-1] .+= β[2 : length(β)]\n",
    "        end   \n",
    "\n",
    "        return X\n",
    "    end\n",
    "end\n",
    "\n",
    "function fast_DCT_1D(x)\n",
    "    @assert (ndims(x)==1) \"input must be one dimensional\"\n",
    "    X = unscaled_fast_DCT_1D(x)\n",
    "    X .*= sqrt(2/length(X))\n",
    "    X[1] /= sqrt(2)\n",
    "    return X\n",
    "end"
   ]
  },
  {
   "cell_type": "markdown",
   "metadata": {},
   "source": [
    "This algorithm is a significant improvement compared to the naive version. The only downside: the new smart algorithm can only operate on input sizes of $2^m$ for some integer $m$."
   ]
  },
  {
   "cell_type": "code",
   "execution_count": 150,
   "metadata": {},
   "outputs": [
    {
     "name": "stdout",
     "output_type": "stream",
     "text": [
      " 26.138800 seconds (62.31 k allocations: 3.566 MiB)\n",
      "  0.230029 seconds (923.12 k allocations: 80.863 MiB, 10.41% gc time)\n",
      "  0.008525 seconds (91 allocations: 260.844 KiB)\n"
     ]
    },
    {
     "data": {
      "text/plain": [
       "32768-element Array{Float64,1}:\n",
       " 90.92365462639059    \n",
       "  0.15117957902241544 \n",
       "  0.18935172552610152 \n",
       "  0.5638185607611432  \n",
       " -0.24989417403248826 \n",
       "  0.05446177879412931 \n",
       " -0.3569649235025834  \n",
       " -0.020658232737417372\n",
       " -0.3880340369707178  \n",
       "  0.06278977323189183 \n",
       " -0.21573817886778307 \n",
       "  0.18885832683340734 \n",
       " -0.06542120952400624 \n",
       "  ⋮                   \n",
       " -0.119005453535457   \n",
       "  0.10765961918105837 \n",
       "  0.07997236522914433 \n",
       "  0.1959345622168107  \n",
       " -0.382003836886706   \n",
       "  0.0640405271966499  \n",
       "  0.12710147812298936 \n",
       " -0.06865250413915101 \n",
       " -0.46744514272563686 \n",
       " -0.12454296039175546 \n",
       "  0.029309696558697283\n",
       "  1.0403026110536149  "
      ]
     },
     "execution_count": 150,
     "metadata": {},
     "output_type": "execute_result"
    }
   ],
   "source": [
    "A = rand(2^15)\n",
    "@time naive_DCT(A) #my naive algorithm\n",
    "@time fast_DCT_1D(A) #my better algorithm\n",
    "@time dct(A) #the good stuff (leading algorithm)"
   ]
  },
  {
   "cell_type": "markdown",
   "metadata": {},
   "source": [
    "### Two-Dimensional Fast Cosine Transform\n",
    "Of course, the FCT can also be applied to multidimensional inputs."
   ]
  },
  {
   "cell_type": "code",
   "execution_count": 151,
   "metadata": {},
   "outputs": [
    {
     "data": {
      "text/plain": [
       "fast_DCT_2D (generic function with 1 method)"
      ]
     },
     "execution_count": 151,
     "metadata": {},
     "output_type": "execute_result"
    }
   ],
   "source": [
    "function fast_DCT_2D(x)\n",
    "    @assert (ndims(x)==2) \"input must be two dimensional\"\n",
    "    N1, N2 = size(x)\n",
    "    X = copy(x)\n",
    "    for col in 1:N2\n",
    "        X[:,col] = fast_DCT_1D(X[:,col]) \n",
    "    end\n",
    "    for row in 1:N1\n",
    "        X[row,:] = fast_DCT_1D(X[row,:])\n",
    "    end\n",
    "    return X\n",
    "end"
   ]
  },
  {
   "cell_type": "markdown",
   "metadata": {},
   "source": [
    "Again, the input must have dimensions proportional to $(2^n, 2^m)$."
   ]
  },
  {
   "cell_type": "markdown",
   "metadata": {},
   "source": [
    "### General FCT (1D or 2D)\n",
    "As we did for the naive DCT, we will again make a general form for the fast cosine transform."
   ]
  },
  {
   "cell_type": "code",
   "execution_count": 152,
   "metadata": {},
   "outputs": [
    {
     "data": {
      "text/plain": [
       "fast_DCT (generic function with 1 method)"
      ]
     },
     "execution_count": 152,
     "metadata": {},
     "output_type": "execute_result"
    }
   ],
   "source": [
    "function fast_DCT(x)\n",
    "    @assert (ndims(x)<=2) \"vector cannot have more than two dimensions\"\n",
    "    dims = size(x)    \n",
    "    if length(dims) == 1 || dims[1] == 1 || dims[2] == 1\n",
    "        return fast_DCT_1D(x)\n",
    "    else \n",
    "        return fast_DCT_2D(x)\n",
    "    end\n",
    "end"
   ]
  },
  {
   "cell_type": "code",
   "execution_count": 153,
   "metadata": {
    "scrolled": true
   },
   "outputs": [
    {
     "name": "stdout",
     "output_type": "stream",
     "text": [
      " 13.791142 seconds (7 allocations: 128.266 KiB)\n",
      "  0.104544 seconds (435.40 k allocations: 45.365 MiB, 8.42% gc time)\n",
      "  0.002966 seconds (107 allocations: 137.984 KiB)\n"
     ]
    },
    {
     "data": {
      "text/plain": [
       "128×128 Array{Float64,2}:\n",
       " 64.3273      -0.168292   -0.264849    …   0.185151     0.043814    0.0728154\n",
       "  0.196816    -0.0283485   0.0443078       0.137077    -0.466626   -0.469488 \n",
       " -0.133787     0.0503269   0.244056        0.432576    -0.254714    0.0555833\n",
       "  0.0694664   -0.176613   -0.458751       -0.0031233    0.130427   -0.622615 \n",
       " -0.0798798   -0.413034   -0.364057       -0.316184     0.0797323  -0.296877 \n",
       "  0.0419849   -0.458441   -0.57322     …   0.28822      0.107162   -0.304291 \n",
       " -0.389341     0.133622    0.173041       -0.471121     0.451494    0.155878 \n",
       "  0.201987     0.2935     -0.42013        -0.416868     0.19053     0.376185 \n",
       "  0.0527425   -0.15637    -0.296034        0.250252     0.143154   -0.116965 \n",
       "  0.0489916   -0.0239951   0.475336       -0.31528     -0.577706    0.424478 \n",
       "  0.0173663    0.159403    0.174745    …  -0.178395    -0.235697   -0.0175436\n",
       "  0.261912     0.211654    0.262362       -0.0319476   -0.815647    0.307446 \n",
       " -0.222497    -0.429014   -0.0364557       0.125283     0.0662936   0.327917 \n",
       "  ⋮                                    ⋱   ⋮                                 \n",
       " -0.304671     0.0168451  -0.0917389       0.185039    -0.11581     0.304762 \n",
       " -0.113582     0.0984405  -0.0796892       0.00372637  -0.128667    0.25054  \n",
       "  0.863851    -0.264299   -0.0749327       0.190517    -0.0202727   0.205783 \n",
       " -0.529979    -0.210302    0.212503        0.0767218    0.134535    0.498487 \n",
       "  0.288292     0.0736883  -0.364585    …  -0.434409    -0.449081   -0.127551 \n",
       " -0.00897653   0.224876    0.485811        0.0433139    0.246684    0.540681 \n",
       "  0.479174     0.0586125   0.293069       -0.546478    -0.135302    0.0842584\n",
       "  0.131946     0.0175362  -0.00318657     -0.142965    -0.428299    0.174201 \n",
       " -0.302098    -0.0699976  -0.278989        0.168158    -0.561787    0.159505 \n",
       " -0.0117798    0.344628    0.171368    …   0.0843117    0.0884088  -0.0764321\n",
       "  0.755117    -0.134287   -0.343671       -0.0233211    0.0685824  -0.0609307\n",
       "  0.204874    -0.138467    0.012135        0.329633     0.145268    0.385119 "
      ]
     },
     "execution_count": 153,
     "metadata": {},
     "output_type": "execute_result"
    }
   ],
   "source": [
    "A = rand(128, 128)\n",
    "\n",
    "@time naive_DCT(A) #my naive algorithm\n",
    "@time fast_DCT(A) #my better algorithm\n",
    "@time dct(A) #the good stuff (leading algorithm)"
   ]
  },
  {
   "cell_type": "markdown",
   "metadata": {},
   "source": [
    "While the FCT performs better compared to the naive algorithm, it severely lacks in the amount of memory it requires compared to the FFTW version of the DCT. This is one of the reasons the performance is worse, although there are many others. Of course there are many Julia specific optimizations that would heavily improve these algorithms, but the fact holds that the FCT is an incredible improvement upon the naive DCT."
   ]
  },
  {
   "cell_type": "markdown",
   "metadata": {},
   "source": [
    "## Cheating\n",
    "One workaround is using the FFT to compute the DCT since the DCT is simply the real output of the FFT. This way of computing the DCT is asymptotically as fast as the FFT, which is a vast improvement over the naive method. However, this method requires post processing that takes $O(N)$ time."
   ]
  },
  {
   "cell_type": "code",
   "execution_count": 154,
   "metadata": {},
   "outputs": [
    {
     "data": {
      "text/plain": [
       "FCTviaFFT (generic function with 1 method)"
      ]
     },
     "execution_count": 154,
     "metadata": {},
     "output_type": "execute_result"
    }
   ],
   "source": [
    "using FFTW\n",
    "function FCTviaFFT(x)\n",
    "    N = length(x)\n",
    "    _x = copy(x)\n",
    "    append!(_x, collect(x[N : -1 : 1]))\n",
    "    ω = fft(_x)[1:N]\n",
    "    y = zero(x)\n",
    "    for k=0:N-1\n",
    "        y[k+1] = 1/sqrt(2N)*(exp(-im*k*π/(2*N))*ω[k+1]).re\n",
    "    end\n",
    "    y[1] /= sqrt(2)\n",
    "    return y\n",
    "end"
   ]
  },
  {
   "cell_type": "markdown",
   "metadata": {},
   "source": [
    "## Performance"
   ]
  },
  {
   "cell_type": "code",
   "execution_count": 155,
   "metadata": {},
   "outputs": [
    {
     "data": {
      "text/plain": [
       "BenchmarkTools.Trial: \n",
       "  memory estimate:  8.22 KiB\n",
       "  allocs estimate:  3\n",
       "  --------------\n",
       "  minimum time:     21.372 ms (0.00% GC)\n",
       "  median time:      23.910 ms (0.00% GC)\n",
       "  mean time:        24.927 ms (0.00% GC)\n",
       "  maximum time:     41.838 ms (0.00% GC)\n",
       "  --------------\n",
       "  samples:          201\n",
       "  evals/sample:     1"
      ]
     },
     "metadata": {},
     "output_type": "display_data"
    },
    {
     "data": {
      "text/plain": [
       "BenchmarkTools.Trial: \n",
       "  memory estimate:  1.50 MiB\n",
       "  allocs estimate:  12276\n",
       "  --------------\n",
       "  minimum time:     810.500 μs (0.00% GC)\n",
       "  median time:      933.201 μs (0.00% GC)\n",
       "  mean time:        1.275 ms (18.26% GC)\n",
       "  maximum time:     13.598 ms (70.19% GC)\n",
       "  --------------\n",
       "  samples:          3890\n",
       "  evals/sample:     1"
      ]
     },
     "metadata": {},
     "output_type": "display_data"
    },
    {
     "data": {
      "text/plain": [
       "BenchmarkTools.Trial: \n",
       "  memory estimate:  131.94 KiB\n",
       "  allocs estimate:  62\n",
       "  --------------\n",
       "  minimum time:     209.499 μs (0.00% GC)\n",
       "  median time:      222.100 μs (0.00% GC)\n",
       "  mean time:        259.467 μs (5.64% GC)\n",
       "  maximum time:     6.510 ms (86.60% GC)\n",
       "  --------------\n",
       "  samples:          10000\n",
       "  evals/sample:     1"
      ]
     },
     "metadata": {},
     "output_type": "display_data"
    },
    {
     "data": {
      "text/plain": [
       "BenchmarkTools.Trial: \n",
       "  memory estimate:  12.73 KiB\n",
       "  allocs estimate:  86\n",
       "  --------------\n",
       "  minimum time:     83.300 μs (0.00% GC)\n",
       "  median time:      91.200 μs (0.00% GC)\n",
       "  mean time:        105.587 μs (2.45% GC)\n",
       "  maximum time:     16.750 ms (40.74% GC)\n",
       "  --------------\n",
       "  samples:          10000\n",
       "  evals/sample:     1"
      ]
     },
     "metadata": {},
     "output_type": "display_data"
    }
   ],
   "source": [
    "using BenchmarkTools\n",
    "\n",
    "A = rand(2^10) \n",
    "\n",
    "display(@benchmark naive_DCT(A))\n",
    "display(@benchmark fast_DCT(A))\n",
    "display(@benchmark FCTviaFFT(A))\n",
    "display(@benchmark dct(A))"
   ]
  },
  {
   "cell_type": "code",
   "execution_count": 156,
   "metadata": {},
   "outputs": [
    {
     "data": {
      "image/png": "[encoded data removed]",
      "text/plain": [
       "Figure(PyObject <Figure size 640x480 with 1 Axes>)"
      ]
     },
     "metadata": {},
     "output_type": "display_data"
    },
    {
     "data": {
      "text/plain": [
       "PyObject <matplotlib.legend.Legend object at 0x0000000048CAF898>"
      ]
     },
     "execution_count": 156,
     "metadata": {},
     "output_type": "execute_result"
    }
   ],
   "source": [
    "using PyPlot\n",
    "\n",
    "#bytes\n",
    "naive = [192, 208, 240, 304, 432, 720, 1230, 2220, 4220, 8220]\n",
    "fast = [1130, 3390, 8130, 18000, 38560, 81340, 170530, 355730, 738970, 1500000]\n",
    "via = [3910, 4160, 4660, 5720, 7830, 11980, 20090, 36030, 68030, 131940]\n",
    "fftw = [4690, 4700, 4730, 4800, 4920, 5200, 5730, 6720, 8730, 12730]\n",
    "\n",
    "N = [2^i for i=1:10]\n",
    "\n",
    "plot(log2.(N), log2.(naive), label=\"naive DCT\", color=\"gray\")\n",
    "plot(log2.(N), log2.(fast), label=\"Lee's Algorithm\", color=\"cyan\")\n",
    "plot(log2.(N), log2.(via), label=\"FCT via FFT\", color=\"red\")\n",
    "plot(log2.(N), log2.(fftw), label=\"FFTW standard\", color=\"green\")\n",
    "# plot(log2.(N), [i^2 for i in log2.(N)], label=\"N^2\", linestyle=\"dashdot\", color=\"black\")\n",
    "plot(log2.(N), [i*log2(i) for i in log2.(N)], label=\"NlogN\", linestyle=\"dashed\", color=\"black\")\n",
    "plot(log2.(N), [i for i in log2.(N)], label=\"N\", linestyle=\"dotted\", color=\"black\")\n",
    "xlabel(\"log_2(N)\", size=14)\n",
    "ylabel(\"log_2(Bytes)\", size=14)\n",
    "legend(fontsize=11)\n"
   ]
  },
  {
   "cell_type": "code",
   "execution_count": 157,
   "metadata": {},
   "outputs": [
    {
     "data": {
      "image/png": "[encoded data removed]",
      "text/plain": [
       "Figure(PyObject <Figure size 640x480 with 1 Axes>)"
      ]
     },
     "metadata": {},
     "output_type": "display_data"
    },
    {
     "data": {
      "text/plain": [
       "PyObject <matplotlib.legend.Legend object at 0x0000000048D43048>"
      ]
     },
     "execution_count": 157,
     "metadata": {},
     "output_type": "execute_result"
    }
   ],
   "source": [
    "#allocations\n",
    "naive = [3, 3, 3, 3, 3, 3, 3, 3, 3, 3]\n",
    "fast = [12, 36, 84, 180, 372, 756, 1524, 3060, 6132, 12276]\n",
    "via = [60, 60, 60, 60, 60, 60, 60, 60, 60, 62]\n",
    "fftw = [85, 85, 85, 85, 85, 85, 85, 85, 85, 86]\n",
    "\n",
    "N = [2^i for i=1:10]\n",
    "\n",
    "plot(log2.(N), log2.(naive), label=\"naive DCT\", color=\"gray\")\n",
    "plot(log2.(N), log2.(fast), label=\"Lee's Algorithm\", color=\"cyan\")\n",
    "plot(log2.(N), log2.(via), label=\"FCT via FFT\", color=\"red\")\n",
    "plot(log2.(N), log2.(fftw), label=\"FFTW standard\", color=\"green\")\n",
    "# plot(log2.(N), [i^2 for i in log2.(N)], label=\"N^2\", linestyle=\"dashdot\", color=\"black\")\n",
    "plot(log2.(N), [i*log2(i) for i in log2.(N)], label=\"NlogN\", linestyle=\"dashed\", color=\"black\")\n",
    "plot(log2.(N), [i for i in log2.(N)], label=\"N\", linestyle=\"dotted\", color=\"black\")\n",
    "xlabel(\"log_2(N)\", size=14)\n",
    "ylabel(\"log_2(Allocations)\", size=14)\n",
    "legend(fontsize=11)"
   ]
  },
  {
   "cell_type": "code",
   "execution_count": 158,
   "metadata": {},
   "outputs": [
    {
     "data": {
      "text/plain": [
       "Flop Counter:\n",
       " add32: 0\n",
       " sub32: 0\n",
       " mul32: 0\n",
       " div32: 0\n",
       " add64: 4056\n",
       " sub64: 7359\n",
       " mul64: 13021\n",
       " div64: 2888\n",
       " sqrt32: 0\n",
       " sqrt64: 94\n"
      ]
     },
     "metadata": {},
     "output_type": "display_data"
    },
    {
     "data": {
      "text/plain": [
       "Flop Counter:\n",
       " add32: 0\n",
       " sub32: 0\n",
       " mul32: 0\n",
       " div32: 0\n",
       " add64: 1278\n",
       " sub64: 1289\n",
       " mul64: 1334\n",
       " div64: 783\n",
       " sqrt32: 0\n",
       " sqrt64: 34\n"
      ]
     },
     "metadata": {},
     "output_type": "display_data"
    },
    {
     "data": {
      "text/plain": [
       "Flop Counter:\n",
       " add32: 0\n",
       " sub32: 0\n",
       " mul32: 0\n",
       " div32: 0\n",
       " add64: 218\n",
       " sub64: 271\n",
       " mul64: 802\n",
       " div64: 129\n",
       " sqrt32: 0\n",
       " sqrt64: 33\n"
      ]
     },
     "metadata": {},
     "output_type": "display_data"
    },
    {
     "data": {
      "text/plain": [
       "Flop Counter:\n",
       " add32: 0\n",
       " sub32: 0\n",
       " mul32: 0\n",
       " div32: 0\n",
       " add64: 0\n",
       " sub64: 0\n",
       " mul64: 34\n",
       " div64: 1\n",
       " sqrt32: 0\n",
       " sqrt64: 1\n"
      ]
     },
     "metadata": {},
     "output_type": "display_data"
    }
   ],
   "source": [
    "using GFlops\n",
    "\n",
    "A = rand(2^5) \n",
    "\n",
    "display(@count_ops naive_DCT(A))\n",
    "display(@count_ops fast_DCT(A))\n",
    "display(@count_ops FCTviaFFT(A))\n",
    "display(@count_ops dct(A))"
   ]
  },
  {
   "cell_type": "code",
   "execution_count": 160,
   "metadata": {},
   "outputs": [
    {
     "data": {
      "image/png": "[encoded data removed]",
      "text/plain": [
       "Figure(PyObject <Figure size 640x480 with 1 Axes>)"
      ]
     },
     "metadata": {},
     "output_type": "display_data"
    },
    {
     "data": {
      "text/plain": [
       "PyObject <matplotlib.legend.Legend object at 0x0000000048E51F28>"
      ]
     },
     "execution_count": 160,
     "metadata": {},
     "output_type": "execute_result"
    }
   ],
   "source": [
    "N = [2^i for i=1:10]\n",
    "naive = [79, 343, 1510, 6550, 27400, 113000, 158000, 1850000, 7430000, 29800000]\n",
    "fast = [111, 349, 886, 2080, 4720, 10500, 23000, 49900, 108000, 231000]\n",
    "via = [73, 165, 349, 717, 1450, 2930, 5870, 11800, 23400, 47100]\n",
    "fftw = [6, 8, 12, 20, 36, 68, 132, 160, 516, 1030]\n",
    "\n",
    "plot(log2.(N), log2.(naive), label=\"naive DCT\", color=\"gray\")\n",
    "plot(log2.(N), log2.(fast), label=\"Lee's Algorithm\", color=\"cyan\")\n",
    "plot(log2.(N), log2.(via), label=\"FCT via FFT\", color=\"red\")\n",
    "plot(log2.(N), log2.(fftw), label=\"FFTW standard\", color=\"green\")\n",
    "# plot(log2.(N), [i^2 for i in log2.(N)], label=\"N^2\", linestyle=\"dashdot\", color=\"black\")\n",
    "plot(log2.(N), [i*log2(i) for i in log2.(N)], label=\"NlogN\", linestyle=\"dashed\", color=\"black\")\n",
    "plot(log2.(N), [i for i in log2.(N)], label=\"N\", linestyle=\"dotted\", color=\"black\")\n",
    "xlabel(\"log_2(N)\", size=14)\n",
    "ylabel(\"log_2(flops)\", size=14)\n",
    "legend(fontsize=11)\n"
   ]
  },
  {
   "cell_type": "markdown",
   "metadata": {},
   "source": [
    "## Even Better\n",
    "While the recursive FCT approach worked well compared to the naive approach, there are many other (sometimes better) methods. One main approach is taking the real-even part of a fast Fourier transform (FFT) because fast FFT algorithms are widely available while fast DCT algorithms are not. To improve upon this, we are able to eliminate many redundant steps from the FFT calculation when we are only interested in finding the DCT. \n",
    "\n",
    "Because the DCT is primarily used in compression algorithms, the input to the DCT is typically a small block ($8\\times 8$ in JPEG) out of some larger input. In these cases, there are algorithms specifically designed to compute the DCT quickly and one prominent algorithm to do so is Feig's algorithm."
   ]
  }
 ],
 "metadata": {
  "kernelspec": {
   "display_name": "Julia 1.2.0",
   "language": "julia",
   "name": "julia-1.2"
  },
  "language_info": {
   "file_extension": ".jl",
   "mimetype": "application/julia",
   "name": "julia",
   "version": "1.2.0"
  }
 },
 "nbformat": 4,
 "nbformat_minor": 2
}
